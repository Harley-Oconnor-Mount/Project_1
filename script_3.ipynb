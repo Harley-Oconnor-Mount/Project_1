{
 "cells": [
  {
   "cell_type": "markdown",
   "metadata": {},
   "source": [
    "# This will be a test of using VSCode\n",
    "\n",
    "VSCode is a new piece of software for me, so I need to learn the details."
   ]
  },
  {
   "cell_type": "code",
   "execution_count": 21,
   "metadata": {},
   "outputs": [
    {
     "name": "stdout",
     "output_type": "stream",
     "text": [
      "Empty DataFrame\n",
      "Columns: [1, 2, 3, 4, Dragon, Male, 2000]\n",
      "Index: []\n"
     ]
    }
   ],
   "source": [
    "#practisting python\n",
    "#dependencies\n",
    "import pandas as pd\n",
    "import os\n",
    "\n",
    "#define wd\n",
    "os.chdir(path=\"C:/Users/harle/Desktop/Project_1\")\n",
    "\n",
    "#import file\n",
    "dataframe=pd.read_csv(\"data.csv\")\n",
    "\n",
    "#print file contents\n",
    "print(dataframe)\n",
    "\n",
    "\n"
   ]
  },
  {
   "cell_type": "code",
   "execution_count": 1,
   "metadata": {},
   "outputs": [],
   "source": [
    "#I want to make a script that downloads sequences from NCBI based on taxonomic ID number\n",
    "from Bio import Entrez\n",
    "from Bio import SeqIO\n",
    "\n",
    "\n",
    "# Set up the Entrez email\n",
    "Entrez.email = \"harleymount@hotmail.com\"\n",
    "\n",
    "# Search for the sequences\n",
    "handle = Entrez.esearch(db=\"nucleotide\", term=\"Ursus americanus[orgn]\")\n",
    "\n",
    "# Fetch the records\n",
    "record = Entrez.efetch(db=\"nucleotide\", id=handle.read(), rettype=\"fasta\")\n",
    "\n",
    "file=open(\"sequences.fasta\",\"w\")\n",
    "\n",
    "\n",
    "for seq_record in SeqIO.parse(record, \"fasta\"):\n",
    "    file.write(seq_record.format(\"fasta\"))"
   ]
  }
 ],
 "metadata": {
  "kernelspec": {
   "display_name": "Biopython",
   "language": "python",
   "name": "python3"
  },
  "language_info": {
   "codemirror_mode": {
    "name": "ipython",
    "version": 3
   },
   "file_extension": ".py",
   "mimetype": "text/x-python",
   "name": "python",
   "nbconvert_exporter": "python",
   "pygments_lexer": "ipython3",
   "version": "3.12.3"
  }
 },
 "nbformat": 4,
 "nbformat_minor": 2
}
