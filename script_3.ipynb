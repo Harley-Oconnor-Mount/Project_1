{
 "cells": [
  {
   "cell_type": "markdown",
   "metadata": {},
   "source": [
    "# This will be a test of using VSCode\n",
    "\n",
    "VSCode is a new piece of software for me, so I need to learn the details."
   ]
  },
  {
   "cell_type": "code",
   "execution_count": 21,
   "metadata": {},
   "outputs": [
    {
     "name": "stdout",
     "output_type": "stream",
     "text": [
      "Empty DataFrame\n",
      "Columns: [1, 2, 3, 4, Dragon, Male, 2000]\n",
      "Index: []\n"
     ]
    }
   ],
   "source": [
    "#practisting python\n",
    "#dependencies\n",
    "import pandas as pd\n",
    "import os\n",
    "\n",
    "#define wd\n",
    "os.chdir(path=\"C:/Users/harle/Desktop/Project_1\")\n",
    "\n",
    "#import file\n",
    "dataframe=pd.read_csv(\"data.csv\")\n",
    "\n",
    "#print file contents\n",
    "print(dataframe)\n",
    "\n",
    "\n"
   ]
  }
 ],
 "metadata": {
  "kernelspec": {
   "display_name": "Biopython",
   "language": "python",
   "name": "python3"
  },
  "language_info": {
   "codemirror_mode": {
    "name": "ipython",
    "version": 3
   },
   "file_extension": ".py",
   "mimetype": "text/x-python",
   "name": "python",
   "nbconvert_exporter": "python",
   "pygments_lexer": "ipython3",
   "version": "3.12.3"
  }
 },
 "nbformat": 4,
 "nbformat_minor": 2
}
